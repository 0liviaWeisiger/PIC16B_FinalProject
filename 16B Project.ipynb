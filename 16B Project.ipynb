{
 "cells": [
  {
   "cell_type": "markdown",
   "id": "174e390b",
   "metadata": {},
   "source": [
    "# Predicting United States Real Estate Prices\n",
    "By: Grace Li, Olivia Weisiger and Fionnuala Eastwood"
   ]
  },
  {
   "cell_type": "markdown",
   "id": "5054bf35",
   "metadata": {},
   "source": [
    "### Outline\n",
    "1. Dataset Preprocessing and Merging\n",
    "2. Data Visualization\n",
    "3. Classic Machine Learning Models\n",
    "4. Deep Learning Models\n",
    "5. Analysis of accuracy and results"
   ]
  },
  {
   "cell_type": "markdown",
   "id": "f3e6a3cb",
   "metadata": {},
   "source": [
    "### Context\n",
    "The United States housing market is..."
   ]
  },
  {
   "cell_type": "markdown",
   "id": "724ff604",
   "metadata": {},
   "source": [
    "### Our Goal\n",
    "\n",
    "This project will explore the current United States real-estate market, investigate what factors influence the price of property, and create multiple machine learning models that predict these housing costs throughout the country. More specifically, this will be accomplished through implementation of (add briefly about what models we end up using....) Being able to infer and understand the trends of real estate is extremely valuable economic knowledge that will provide important insights about our country. \n",
    "\n",
    "Furthermore, our project aims to deepen our understanding of how societal biases influence external structures such as the economy. By merging datasets, we will investigate which underlying factors such as (add briefly when choose other data) affect the prices of houses in order to draw deeper conclusions about intangible factors impacting our economic climate."
   ]
  },
  {
   "cell_type": "markdown",
   "id": "f5441e62",
   "metadata": {},
   "source": [
    "### Import Packages and Data"
   ]
  },
  {
   "cell_type": "code",
   "execution_count": 1,
   "id": "e0d47e09",
   "metadata": {},
   "outputs": [],
   "source": [
    "import pandas as pd\n",
    "import numpy as np\n",
    "import matplotlib.pyplot as plt"
   ]
  },
  {
   "cell_type": "markdown",
   "id": "3b767510",
   "metadata": {},
   "source": [
    "This data is from Kaggle's \"USA Real Estate Dataset\" found here: https://www.kaggle.com/datasets/ahmedshahriarsakib/usa-real-estate-dataset"
   ]
  },
  {
   "cell_type": "code",
   "execution_count": 2,
   "id": "8c01278f",
   "metadata": {},
   "outputs": [],
   "source": [
    "df = pd.read_csv('realtor-data.zip.csv')"
   ]
  },
  {
   "cell_type": "markdown",
   "id": "caba8cab",
   "metadata": {},
   "source": [
    "### Initial Data Processing\n",
    "Let's first break down what our dataset looks like..."
   ]
  },
  {
   "cell_type": "code",
   "execution_count": 3,
   "id": "ef3990b4",
   "metadata": {},
   "outputs": [
    {
     "data": {
      "text/plain": [
       "(2226382, 12)"
      ]
     },
     "execution_count": 3,
     "metadata": {},
     "output_type": "execute_result"
    }
   ],
   "source": [
    "df.shape"
   ]
  },
  {
   "cell_type": "markdown",
   "id": "4881d372",
   "metadata": {},
   "source": [
    "We have a dataset with over 2 million rows and 12 columns. Since this is way too many samples to process in a reasonable computational time, we will take a random subset of 40,000 of these samples to perform analysis on."
   ]
  },
  {
   "cell_type": "code",
   "execution_count": 4,
   "id": "ac630652",
   "metadata": {},
   "outputs": [],
   "source": [
    "df = df.sample(50000)"
   ]
  },
  {
   "cell_type": "markdown",
   "id": "95024cfe",
   "metadata": {},
   "source": [
    "With our refined sample, let's get an idea of what our dataset looks like by outputting a few rows of the table."
   ]
  },
  {
   "cell_type": "code",
   "execution_count": 5,
   "id": "111beab6",
   "metadata": {},
   "outputs": [
    {
     "data": {
      "text/html": [
       "<div>\n",
       "<style scoped>\n",
       "    .dataframe tbody tr th:only-of-type {\n",
       "        vertical-align: middle;\n",
       "    }\n",
       "\n",
       "    .dataframe tbody tr th {\n",
       "        vertical-align: top;\n",
       "    }\n",
       "\n",
       "    .dataframe thead th {\n",
       "        text-align: right;\n",
       "    }\n",
       "</style>\n",
       "<table border=\"1\" class=\"dataframe\">\n",
       "  <thead>\n",
       "    <tr style=\"text-align: right;\">\n",
       "      <th></th>\n",
       "      <th>brokered_by</th>\n",
       "      <th>status</th>\n",
       "      <th>price</th>\n",
       "      <th>bed</th>\n",
       "      <th>bath</th>\n",
       "      <th>acre_lot</th>\n",
       "      <th>street</th>\n",
       "      <th>city</th>\n",
       "      <th>state</th>\n",
       "      <th>zip_code</th>\n",
       "      <th>house_size</th>\n",
       "      <th>prev_sold_date</th>\n",
       "    </tr>\n",
       "  </thead>\n",
       "  <tbody>\n",
       "    <tr>\n",
       "      <th>570890</th>\n",
       "      <td>2861.0</td>\n",
       "      <td>for_sale</td>\n",
       "      <td>303950.0</td>\n",
       "      <td>3.0</td>\n",
       "      <td>2.0</td>\n",
       "      <td>0.17</td>\n",
       "      <td>1405853.0</td>\n",
       "      <td>Beverly Hills</td>\n",
       "      <td>Florida</td>\n",
       "      <td>34465.0</td>\n",
       "      <td>1720.0</td>\n",
       "      <td>NaN</td>\n",
       "    </tr>\n",
       "    <tr>\n",
       "      <th>396259</th>\n",
       "      <td>56692.0</td>\n",
       "      <td>for_sale</td>\n",
       "      <td>185000.0</td>\n",
       "      <td>NaN</td>\n",
       "      <td>NaN</td>\n",
       "      <td>9.98</td>\n",
       "      <td>1892098.0</td>\n",
       "      <td>Cleveland</td>\n",
       "      <td>Georgia</td>\n",
       "      <td>30528.0</td>\n",
       "      <td>NaN</td>\n",
       "      <td>NaN</td>\n",
       "    </tr>\n",
       "    <tr>\n",
       "      <th>1587017</th>\n",
       "      <td>58652.0</td>\n",
       "      <td>sold</td>\n",
       "      <td>210000.0</td>\n",
       "      <td>3.0</td>\n",
       "      <td>2.0</td>\n",
       "      <td>0.21</td>\n",
       "      <td>1823001.0</td>\n",
       "      <td>Newport News</td>\n",
       "      <td>Virginia</td>\n",
       "      <td>23608.0</td>\n",
       "      <td>1860.0</td>\n",
       "      <td>2021-12-15</td>\n",
       "    </tr>\n",
       "    <tr>\n",
       "      <th>1726366</th>\n",
       "      <td>3810.0</td>\n",
       "      <td>sold</td>\n",
       "      <td>190000.0</td>\n",
       "      <td>3.0</td>\n",
       "      <td>2.0</td>\n",
       "      <td>0.15</td>\n",
       "      <td>1102433.0</td>\n",
       "      <td>Zephyrhills</td>\n",
       "      <td>Florida</td>\n",
       "      <td>33542.0</td>\n",
       "      <td>1842.0</td>\n",
       "      <td>2021-11-12</td>\n",
       "    </tr>\n",
       "    <tr>\n",
       "      <th>206275</th>\n",
       "      <td>14210.0</td>\n",
       "      <td>for_sale</td>\n",
       "      <td>299000.0</td>\n",
       "      <td>3.0</td>\n",
       "      <td>3.0</td>\n",
       "      <td>0.14</td>\n",
       "      <td>1498070.0</td>\n",
       "      <td>Middletown</td>\n",
       "      <td>Delaware</td>\n",
       "      <td>19709.0</td>\n",
       "      <td>1750.0</td>\n",
       "      <td>2014-06-27</td>\n",
       "    </tr>\n",
       "  </tbody>\n",
       "</table>\n",
       "</div>"
      ],
      "text/plain": [
       "         brokered_by    status     price  bed  bath  acre_lot     street  \\\n",
       "570890        2861.0  for_sale  303950.0  3.0   2.0      0.17  1405853.0   \n",
       "396259       56692.0  for_sale  185000.0  NaN   NaN      9.98  1892098.0   \n",
       "1587017      58652.0      sold  210000.0  3.0   2.0      0.21  1823001.0   \n",
       "1726366       3810.0      sold  190000.0  3.0   2.0      0.15  1102433.0   \n",
       "206275       14210.0  for_sale  299000.0  3.0   3.0      0.14  1498070.0   \n",
       "\n",
       "                  city     state  zip_code  house_size prev_sold_date  \n",
       "570890   Beverly Hills   Florida   34465.0      1720.0            NaN  \n",
       "396259       Cleveland   Georgia   30528.0         NaN            NaN  \n",
       "1587017   Newport News  Virginia   23608.0      1860.0     2021-12-15  \n",
       "1726366    Zephyrhills   Florida   33542.0      1842.0     2021-11-12  \n",
       "206275      Middletown  Delaware   19709.0      1750.0     2014-06-27  "
      ]
     },
     "execution_count": 5,
     "metadata": {},
     "output_type": "execute_result"
    }
   ],
   "source": [
    "df.head()"
   ]
  },
  {
   "cell_type": "markdown",
   "id": "fa1c8b99",
   "metadata": {},
   "source": [
    "Notice that each sample in the dataset is a real estate listing in the United States (the listings are all from 2022-2024), and each sample has 12 features that provide numerical or categorical information about the listing."
   ]
  },
  {
   "cell_type": "markdown",
   "id": "ae9dd10b",
   "metadata": {},
   "source": [
    "Here is an overview of each feature's meaning and data type:\n",
    "\n",
    "- brokered_by:\n",
    "\n",
    "- status:\n",
    "\n",
    "- price:\n",
    "\n",
    "- bed:\n",
    "\n",
    "- bath:\n",
    "\n",
    "- etc fill in later (look on kaggle these descriptins are provided)"
   ]
  },
  {
   "cell_type": "markdown",
   "id": "b9e9f616",
   "metadata": {},
   "source": [
    "Now that we have an understanding of our data set, we will perform some processing on the data so that it is cleaner to use. Firstly, we will drop some unnecessary columns that do not contribute to our analysis goals. The brokered_by column which encodes the real-estate company in charge of the property is not necessary because we are interested in the qualities of the house itself. Additionally, the status column is not needed because we will use the price set for the house equivalently regardless if it is sold or for sale. Lastly, the previously sold date can be dropped since we are focused on the current selling price. We will trim our dataset from 12 columns to 9 with these modifications."
   ]
  },
  {
   "cell_type": "code",
   "execution_count": 6,
   "id": "d9f20f92",
   "metadata": {},
   "outputs": [],
   "source": [
    "df = df.drop(['brokered_by', 'status', 'prev_sold_date'], axis=1)"
   ]
  },
  {
   "cell_type": "markdown",
   "id": "d86679a9",
   "metadata": {},
   "source": [
    "This dataset contains listings from the United States and all it's territories. For our purposes, we only want to analyze data from the 50 states (and Washington, DC) so let's trim out samples taken from Puerto Rico and the Virgin Islands."
   ]
  },
  {
   "cell_type": "code",
   "execution_count": 7,
   "id": "6ac992a0",
   "metadata": {},
   "outputs": [],
   "source": [
    "df = df[(df['state'] != \"Puerto Rico\") & (df['state'] != \"Virgin Islands\")]"
   ]
  },
  {
   "cell_type": "markdown",
   "id": "efb20ef2",
   "metadata": {},
   "source": [
    "Our next processing step is making sure we don't have any NaN's in our dataset, as empty data values might impact our analysis models."
   ]
  },
  {
   "cell_type": "code",
   "execution_count": 8,
   "id": "bdd41e31",
   "metadata": {},
   "outputs": [
    {
     "name": "stdout",
     "output_type": "stream",
     "text": [
      "42918\n"
     ]
    }
   ],
   "source": [
    "#sum up all NaN values present in dataset (in any feature column)\n",
    "print (df.isnull().sum().sum())"
   ]
  },
  {
   "cell_type": "markdown",
   "id": "ffe21dbe",
   "metadata": {},
   "source": [
    "We see that we have some data entries with no value, so let's remove all rows that contain any NaN values. We will also check the shape of our data frame after this removal to make sure we still have plenty of samples to work with."
   ]
  },
  {
   "cell_type": "code",
   "execution_count": 9,
   "id": "ed4f3eba",
   "metadata": {},
   "outputs": [
    {
     "name": "stdout",
     "output_type": "stream",
     "text": [
      "We now have: 0 NaN entires\n",
      "Our new dataset shape is (30293, 9)\n"
     ]
    }
   ],
   "source": [
    "#remove all rows missing data\n",
    "df = df.dropna()\n",
    "\n",
    "#verify we now have no NaN values, expect a value of zero\n",
    "print (f'We now have: {df.isnull().sum().sum()} NaN entires')\n",
    "\n",
    "#print new shape\n",
    "print (f'Our new dataset shape is {df.shape}')\n"
   ]
  },
  {
   "cell_type": "markdown",
   "id": "a3699592",
   "metadata": {},
   "source": [
    "We successfully dropped all empty entries and still have a substantial size data frame to analyze. Now we are ready to merge this dataframe with others in order to add more features that may correlate to real estate pricing."
   ]
  },
  {
   "cell_type": "markdown",
   "id": "a96272b9",
   "metadata": {},
   "source": [
    "**NOTE: Do we need to turn pricing column into categorical data instead of numerical? Most of our machine learning and nn uses categorical. Could probably do this later on in notebook too**"
   ]
  },
  {
   "cell_type": "markdown",
   "id": "f1a6f273",
   "metadata": {},
   "source": [
    "### Dataset Merging"
   ]
  },
  {
   "cell_type": "markdown",
   "id": "4366f5d0",
   "metadata": {},
   "source": [
    "While the relationship between features such as number of rooms or number of acres on real-estate prices is quite intuitive, this project aims to delve beyond these variables and investigate more abstract influences. This will be done by merging our current dataframe with new datasets in order to add features including minimum wage of the state, median income by zip code, and even political affiliation, as we are curious if any of these variables will display a strong correlation with housing prices. One caution to note is that our original real estate data is from the past two years, so we will need to make sure the data we are merging with is taken from the same time period in order to obtain accurate conclusions.\n",
    "\n",
    "The first dataset we will merge with is Kaggle's \"US Household Income by Zip Code 2021-2011\" found here: https://www.kaggle.com/datasets/claygendron/us-household-income-by-zip-code-2021-2011"
   ]
  },
  {
   "cell_type": "code",
   "execution_count": 10,
   "id": "797979df",
   "metadata": {},
   "outputs": [
    {
     "data": {
      "text/html": [
       "<div>\n",
       "<style scoped>\n",
       "    .dataframe tbody tr th:only-of-type {\n",
       "        vertical-align: middle;\n",
       "    }\n",
       "\n",
       "    .dataframe tbody tr th {\n",
       "        vertical-align: top;\n",
       "    }\n",
       "\n",
       "    .dataframe thead th {\n",
       "        text-align: right;\n",
       "    }\n",
       "</style>\n",
       "<table border=\"1\" class=\"dataframe\">\n",
       "  <thead>\n",
       "    <tr style=\"text-align: right;\">\n",
       "      <th></th>\n",
       "      <th>ZIP</th>\n",
       "      <th>Geography</th>\n",
       "      <th>Geographic Area Name</th>\n",
       "      <th>Households</th>\n",
       "      <th>Households Margin of Error</th>\n",
       "      <th>Households Less Than $10,000</th>\n",
       "      <th>Households Less Than $10,000 Margin of Error</th>\n",
       "      <th>Households $10,000 to $14,999</th>\n",
       "      <th>Households $10,000 to $14,999 Margin of Error</th>\n",
       "      <th>Households $15,000 to $24,999</th>\n",
       "      <th>...</th>\n",
       "      <th>Nonfamily Households $150,000 to $199,999</th>\n",
       "      <th>Nonfamily Households $150,000 to $199,999 Margin of Error</th>\n",
       "      <th>Nonfamily Households $200,000 or More</th>\n",
       "      <th>Nonfamily Households $200,000 or More Margin of Error</th>\n",
       "      <th>Nonfamily Households Median Income (Dollars)</th>\n",
       "      <th>Nonfamily Households Median Income (Dollars) Margin of Error</th>\n",
       "      <th>Nonfamily Households Mean Income (Dollars)</th>\n",
       "      <th>Nonfamily Households Mean Income (Dollars) Margin of Error</th>\n",
       "      <th>Nonfamily Households Nonfamily Income in the Past 12 Months</th>\n",
       "      <th>Year</th>\n",
       "    </tr>\n",
       "  </thead>\n",
       "  <tbody>\n",
       "    <tr>\n",
       "      <th>0</th>\n",
       "      <td>601</td>\n",
       "      <td>860Z200US00601</td>\n",
       "      <td>ZCTA5 00601</td>\n",
       "      <td>5397.0</td>\n",
       "      <td>264.0</td>\n",
       "      <td>33.2</td>\n",
       "      <td>4.4</td>\n",
       "      <td>15.7</td>\n",
       "      <td>2.9</td>\n",
       "      <td>23.9</td>\n",
       "      <td>...</td>\n",
       "      <td>0.0</td>\n",
       "      <td>2.8</td>\n",
       "      <td>0.0</td>\n",
       "      <td>2.8</td>\n",
       "      <td>9386.0</td>\n",
       "      <td>1472.0</td>\n",
       "      <td>13044.0</td>\n",
       "      <td>1949.0</td>\n",
       "      <td>15.0</td>\n",
       "      <td>2021.0</td>\n",
       "    </tr>\n",
       "    <tr>\n",
       "      <th>1</th>\n",
       "      <td>602</td>\n",
       "      <td>860Z200US00602</td>\n",
       "      <td>ZCTA5 00602</td>\n",
       "      <td>12858.0</td>\n",
       "      <td>448.0</td>\n",
       "      <td>27.1</td>\n",
       "      <td>2.9</td>\n",
       "      <td>12.7</td>\n",
       "      <td>2.1</td>\n",
       "      <td>20.5</td>\n",
       "      <td>...</td>\n",
       "      <td>0.0</td>\n",
       "      <td>1.3</td>\n",
       "      <td>0.0</td>\n",
       "      <td>1.3</td>\n",
       "      <td>11242.0</td>\n",
       "      <td>1993.0</td>\n",
       "      <td>16419.0</td>\n",
       "      <td>2310.0</td>\n",
       "      <td>20.1</td>\n",
       "      <td>2021.0</td>\n",
       "    </tr>\n",
       "    <tr>\n",
       "      <th>2</th>\n",
       "      <td>603</td>\n",
       "      <td>860Z200US00603</td>\n",
       "      <td>ZCTA5 00603</td>\n",
       "      <td>19295.0</td>\n",
       "      <td>555.0</td>\n",
       "      <td>32.1</td>\n",
       "      <td>2.5</td>\n",
       "      <td>13.4</td>\n",
       "      <td>1.6</td>\n",
       "      <td>17.2</td>\n",
       "      <td>...</td>\n",
       "      <td>0.6</td>\n",
       "      <td>0.6</td>\n",
       "      <td>0.2</td>\n",
       "      <td>0.4</td>\n",
       "      <td>10639.0</td>\n",
       "      <td>844.0</td>\n",
       "      <td>16824.0</td>\n",
       "      <td>2217.0</td>\n",
       "      <td>34.9</td>\n",
       "      <td>2021.0</td>\n",
       "    </tr>\n",
       "    <tr>\n",
       "      <th>3</th>\n",
       "      <td>606</td>\n",
       "      <td>860Z200US00606</td>\n",
       "      <td>ZCTA5 00606</td>\n",
       "      <td>1968.0</td>\n",
       "      <td>171.0</td>\n",
       "      <td>28.4</td>\n",
       "      <td>5.5</td>\n",
       "      <td>13.3</td>\n",
       "      <td>4.4</td>\n",
       "      <td>23.3</td>\n",
       "      <td>...</td>\n",
       "      <td>0.0</td>\n",
       "      <td>7.5</td>\n",
       "      <td>0.0</td>\n",
       "      <td>7.5</td>\n",
       "      <td>15849.0</td>\n",
       "      <td>3067.0</td>\n",
       "      <td>16312.0</td>\n",
       "      <td>2662.0</td>\n",
       "      <td>13.0</td>\n",
       "      <td>2021.0</td>\n",
       "    </tr>\n",
       "    <tr>\n",
       "      <th>4</th>\n",
       "      <td>610</td>\n",
       "      <td>860Z200US00610</td>\n",
       "      <td>ZCTA5 00610</td>\n",
       "      <td>8934.0</td>\n",
       "      <td>372.0</td>\n",
       "      <td>20.5</td>\n",
       "      <td>2.5</td>\n",
       "      <td>13.2</td>\n",
       "      <td>2.5</td>\n",
       "      <td>23.3</td>\n",
       "      <td>...</td>\n",
       "      <td>0.0</td>\n",
       "      <td>1.8</td>\n",
       "      <td>0.0</td>\n",
       "      <td>1.8</td>\n",
       "      <td>12832.0</td>\n",
       "      <td>2405.0</td>\n",
       "      <td>16756.0</td>\n",
       "      <td>1740.0</td>\n",
       "      <td>14.5</td>\n",
       "      <td>2021.0</td>\n",
       "    </tr>\n",
       "  </tbody>\n",
       "</table>\n",
       "<p>5 rows × 111 columns</p>\n",
       "</div>"
      ],
      "text/plain": [
       "   ZIP       Geography Geographic Area Name  Households  \\\n",
       "0  601  860Z200US00601          ZCTA5 00601      5397.0   \n",
       "1  602  860Z200US00602          ZCTA5 00602     12858.0   \n",
       "2  603  860Z200US00603          ZCTA5 00603     19295.0   \n",
       "3  606  860Z200US00606          ZCTA5 00606      1968.0   \n",
       "4  610  860Z200US00610          ZCTA5 00610      8934.0   \n",
       "\n",
       "   Households Margin of Error  Households Less Than $10,000  \\\n",
       "0                       264.0                          33.2   \n",
       "1                       448.0                          27.1   \n",
       "2                       555.0                          32.1   \n",
       "3                       171.0                          28.4   \n",
       "4                       372.0                          20.5   \n",
       "\n",
       "   Households Less Than $10,000 Margin of Error  \\\n",
       "0                                           4.4   \n",
       "1                                           2.9   \n",
       "2                                           2.5   \n",
       "3                                           5.5   \n",
       "4                                           2.5   \n",
       "\n",
       "   Households $10,000 to $14,999  \\\n",
       "0                           15.7   \n",
       "1                           12.7   \n",
       "2                           13.4   \n",
       "3                           13.3   \n",
       "4                           13.2   \n",
       "\n",
       "   Households $10,000 to $14,999 Margin of Error  \\\n",
       "0                                            2.9   \n",
       "1                                            2.1   \n",
       "2                                            1.6   \n",
       "3                                            4.4   \n",
       "4                                            2.5   \n",
       "\n",
       "   Households $15,000 to $24,999  ...  \\\n",
       "0                           23.9  ...   \n",
       "1                           20.5  ...   \n",
       "2                           17.2  ...   \n",
       "3                           23.3  ...   \n",
       "4                           23.3  ...   \n",
       "\n",
       "   Nonfamily Households $150,000 to $199,999  \\\n",
       "0                                        0.0   \n",
       "1                                        0.0   \n",
       "2                                        0.6   \n",
       "3                                        0.0   \n",
       "4                                        0.0   \n",
       "\n",
       "   Nonfamily Households $150,000 to $199,999 Margin of Error  \\\n",
       "0                                                2.8           \n",
       "1                                                1.3           \n",
       "2                                                0.6           \n",
       "3                                                7.5           \n",
       "4                                                1.8           \n",
       "\n",
       "   Nonfamily Households $200,000 or More  \\\n",
       "0                                    0.0   \n",
       "1                                    0.0   \n",
       "2                                    0.2   \n",
       "3                                    0.0   \n",
       "4                                    0.0   \n",
       "\n",
       "   Nonfamily Households $200,000 or More Margin of Error  \\\n",
       "0                                                2.8       \n",
       "1                                                1.3       \n",
       "2                                                0.4       \n",
       "3                                                7.5       \n",
       "4                                                1.8       \n",
       "\n",
       "   Nonfamily Households Median Income (Dollars)  \\\n",
       "0                                        9386.0   \n",
       "1                                       11242.0   \n",
       "2                                       10639.0   \n",
       "3                                       15849.0   \n",
       "4                                       12832.0   \n",
       "\n",
       "   Nonfamily Households Median Income (Dollars) Margin of Error  \\\n",
       "0                                             1472.0              \n",
       "1                                             1993.0              \n",
       "2                                              844.0              \n",
       "3                                             3067.0              \n",
       "4                                             2405.0              \n",
       "\n",
       "   Nonfamily Households Mean Income (Dollars)  \\\n",
       "0                                     13044.0   \n",
       "1                                     16419.0   \n",
       "2                                     16824.0   \n",
       "3                                     16312.0   \n",
       "4                                     16756.0   \n",
       "\n",
       "   Nonfamily Households Mean Income (Dollars) Margin of Error  \\\n",
       "0                                             1949.0            \n",
       "1                                             2310.0            \n",
       "2                                             2217.0            \n",
       "3                                             2662.0            \n",
       "4                                             1740.0            \n",
       "\n",
       "   Nonfamily Households Nonfamily Income in the Past 12 Months    Year  \n",
       "0                                               15.0            2021.0  \n",
       "1                                               20.1            2021.0  \n",
       "2                                               34.9            2021.0  \n",
       "3                                               13.0            2021.0  \n",
       "4                                               14.5            2021.0  \n",
       "\n",
       "[5 rows x 111 columns]"
      ]
     },
     "execution_count": 10,
     "metadata": {},
     "output_type": "execute_result"
    }
   ],
   "source": [
    "df2 = pd.read_csv('us_income_zipcode.csv')\n",
    "df2.head()"
   ]
  },
  {
   "cell_type": "markdown",
   "id": "4f2775b0",
   "metadata": {},
   "source": [
    "This dataset contains the results of the 2011 and 2021 national census, and we have chosen it in order to add a median income feature to our real estate pricing dataset. As explained above, we are only interested in the 2021 data since our pricing data comes from recent years, so we will trim down our dataset accordingly. Additionally, the dataset comes with dozens of feature columns, but for our purposes we only need to keep the zip code column (which we will use to merge our original dataset), and the median household income column. So let's process our dataset and display the cleaner result."
   ]
  },
  {
   "cell_type": "code",
   "execution_count": 11,
   "id": "2ddf1167",
   "metadata": {},
   "outputs": [
    {
     "data": {
      "text/html": [
       "<div>\n",
       "<style scoped>\n",
       "    .dataframe tbody tr th:only-of-type {\n",
       "        vertical-align: middle;\n",
       "    }\n",
       "\n",
       "    .dataframe tbody tr th {\n",
       "        vertical-align: top;\n",
       "    }\n",
       "\n",
       "    .dataframe thead th {\n",
       "        text-align: right;\n",
       "    }\n",
       "</style>\n",
       "<table border=\"1\" class=\"dataframe\">\n",
       "  <thead>\n",
       "    <tr style=\"text-align: right;\">\n",
       "      <th></th>\n",
       "      <th>ZIP</th>\n",
       "      <th>Nonfamily Households Median Income (Dollars)</th>\n",
       "    </tr>\n",
       "  </thead>\n",
       "  <tbody>\n",
       "    <tr>\n",
       "      <th>0</th>\n",
       "      <td>601</td>\n",
       "      <td>9386.0</td>\n",
       "    </tr>\n",
       "    <tr>\n",
       "      <th>1</th>\n",
       "      <td>602</td>\n",
       "      <td>11242.0</td>\n",
       "    </tr>\n",
       "    <tr>\n",
       "      <th>2</th>\n",
       "      <td>603</td>\n",
       "      <td>10639.0</td>\n",
       "    </tr>\n",
       "    <tr>\n",
       "      <th>3</th>\n",
       "      <td>606</td>\n",
       "      <td>15849.0</td>\n",
       "    </tr>\n",
       "    <tr>\n",
       "      <th>4</th>\n",
       "      <td>610</td>\n",
       "      <td>12832.0</td>\n",
       "    </tr>\n",
       "  </tbody>\n",
       "</table>\n",
       "</div>"
      ],
      "text/plain": [
       "   ZIP  Nonfamily Households Median Income (Dollars)\n",
       "0  601                                        9386.0\n",
       "1  602                                       11242.0\n",
       "2  603                                       10639.0\n",
       "3  606                                       15849.0\n",
       "4  610                                       12832.0"
      ]
     },
     "execution_count": 11,
     "metadata": {},
     "output_type": "execute_result"
    }
   ],
   "source": [
    "#select only samples from most recent census\n",
    "df2 = df2[df2[\"Year\"] == 2021.0]\n",
    "\n",
    "#select only features we want\n",
    "df2 = df2[[\"ZIP\", \"Nonfamily Households Median Income (Dollars)\"]]\n",
    "\n",
    "df2.head()"
   ]
  },
  {
   "cell_type": "markdown",
   "id": "67cdf567",
   "metadata": {},
   "source": [
    "Now we are ready to merge with our original dataset. Currently our zip code columns have different names so we will rename them identically, and they also have different types (integer vs float) so we will convert to a float variable to avoid type error interference."
   ]
  },
  {
   "cell_type": "code",
   "execution_count": 12,
   "id": "68a92c8a",
   "metadata": {},
   "outputs": [],
   "source": [
    "df2[\"ZIP\"] = df2[\"ZIP\"].astype(float)\n",
    "\n",
    "df2 = df2.rename(columns={'ZIP': 'zip_code'})"
   ]
  },
  {
   "cell_type": "markdown",
   "id": "fd0785a1",
   "metadata": {},
   "source": [
    "We will use an inner merge (explain why...)\n",
    "The census data was very thorough (we have very few NaN values), so we can just remove any empty data rows and our dataset remains practically the same. We verify this assumption by outputting our dataset shape after the merge."
   ]
  },
  {
   "cell_type": "code",
   "execution_count": 13,
   "id": "b4c3b0ae",
   "metadata": {},
   "outputs": [
    {
     "name": "stdout",
     "output_type": "stream",
     "text": [
      "(29969, 10)\n"
     ]
    },
    {
     "data": {
      "text/html": [
       "<div>\n",
       "<style scoped>\n",
       "    .dataframe tbody tr th:only-of-type {\n",
       "        vertical-align: middle;\n",
       "    }\n",
       "\n",
       "    .dataframe tbody tr th {\n",
       "        vertical-align: top;\n",
       "    }\n",
       "\n",
       "    .dataframe thead th {\n",
       "        text-align: right;\n",
       "    }\n",
       "</style>\n",
       "<table border=\"1\" class=\"dataframe\">\n",
       "  <thead>\n",
       "    <tr style=\"text-align: right;\">\n",
       "      <th></th>\n",
       "      <th>price</th>\n",
       "      <th>bed</th>\n",
       "      <th>bath</th>\n",
       "      <th>acre_lot</th>\n",
       "      <th>street</th>\n",
       "      <th>city</th>\n",
       "      <th>state</th>\n",
       "      <th>zip_code</th>\n",
       "      <th>house_size</th>\n",
       "      <th>Nonfamily Households Median Income (Dollars)</th>\n",
       "    </tr>\n",
       "  </thead>\n",
       "  <tbody>\n",
       "    <tr>\n",
       "      <th>0</th>\n",
       "      <td>303950.0</td>\n",
       "      <td>3.0</td>\n",
       "      <td>2.0</td>\n",
       "      <td>0.17</td>\n",
       "      <td>1405853.0</td>\n",
       "      <td>Beverly Hills</td>\n",
       "      <td>Florida</td>\n",
       "      <td>34465.0</td>\n",
       "      <td>1720.0</td>\n",
       "      <td>34055.0</td>\n",
       "    </tr>\n",
       "    <tr>\n",
       "      <th>1</th>\n",
       "      <td>139999.0</td>\n",
       "      <td>2.0</td>\n",
       "      <td>2.0</td>\n",
       "      <td>0.22</td>\n",
       "      <td>1322125.0</td>\n",
       "      <td>Beverly Hills</td>\n",
       "      <td>Florida</td>\n",
       "      <td>34465.0</td>\n",
       "      <td>908.0</td>\n",
       "      <td>34055.0</td>\n",
       "    </tr>\n",
       "    <tr>\n",
       "      <th>2</th>\n",
       "      <td>118000.0</td>\n",
       "      <td>1.0</td>\n",
       "      <td>1.0</td>\n",
       "      <td>0.14</td>\n",
       "      <td>846848.0</td>\n",
       "      <td>Beverly Hills</td>\n",
       "      <td>Florida</td>\n",
       "      <td>34465.0</td>\n",
       "      <td>675.0</td>\n",
       "      <td>34055.0</td>\n",
       "    </tr>\n",
       "    <tr>\n",
       "      <th>3</th>\n",
       "      <td>239500.0</td>\n",
       "      <td>3.0</td>\n",
       "      <td>2.0</td>\n",
       "      <td>0.25</td>\n",
       "      <td>625843.0</td>\n",
       "      <td>Beverly Hills</td>\n",
       "      <td>Florida</td>\n",
       "      <td>34465.0</td>\n",
       "      <td>1898.0</td>\n",
       "      <td>34055.0</td>\n",
       "    </tr>\n",
       "    <tr>\n",
       "      <th>4</th>\n",
       "      <td>165000.0</td>\n",
       "      <td>2.0</td>\n",
       "      <td>1.0</td>\n",
       "      <td>0.21</td>\n",
       "      <td>986060.0</td>\n",
       "      <td>Beverly Hills</td>\n",
       "      <td>Florida</td>\n",
       "      <td>34465.0</td>\n",
       "      <td>908.0</td>\n",
       "      <td>34055.0</td>\n",
       "    </tr>\n",
       "  </tbody>\n",
       "</table>\n",
       "</div>"
      ],
      "text/plain": [
       "      price  bed  bath  acre_lot     street           city    state  zip_code  \\\n",
       "0  303950.0  3.0   2.0      0.17  1405853.0  Beverly Hills  Florida   34465.0   \n",
       "1  139999.0  2.0   2.0      0.22  1322125.0  Beverly Hills  Florida   34465.0   \n",
       "2  118000.0  1.0   1.0      0.14   846848.0  Beverly Hills  Florida   34465.0   \n",
       "3  239500.0  3.0   2.0      0.25   625843.0  Beverly Hills  Florida   34465.0   \n",
       "4  165000.0  2.0   1.0      0.21   986060.0  Beverly Hills  Florida   34465.0   \n",
       "\n",
       "   house_size  Nonfamily Households Median Income (Dollars)  \n",
       "0      1720.0                                       34055.0  \n",
       "1       908.0                                       34055.0  \n",
       "2       675.0                                       34055.0  \n",
       "3      1898.0                                       34055.0  \n",
       "4       908.0                                       34055.0  "
      ]
     },
     "execution_count": 13,
     "metadata": {},
     "output_type": "execute_result"
    }
   ],
   "source": [
    "df = pd.merge(df, df2, on = [\"zip_code\"])\n",
    "\n",
    "#remove all rows missing data\n",
    "df = df.dropna()\n",
    "\n",
    "print (df.shape)\n",
    "df.head()"
   ]
  },
  {
   "cell_type": "markdown",
   "id": "e8dff980",
   "metadata": {},
   "source": [
    "This feature looks good, let's move on to some more merges.\n",
    "\n",
    "Next, we want to add to our dataset election results and minimum wage data by state (/whatever else anyone wants to add!!), which should be slightly simpler than merging by zipcode\n",
    "\n",
    "...."
   ]
  },
  {
   "cell_type": "markdown",
   "id": "3c0d5efa",
   "metadata": {},
   "source": [
    "### Data Visualization\n",
    "\n",
    "(Just writing some notes for us to use later)\n",
    "- maybe create a fancy visual heatmap type thing showing our prices by zipcode on the us map\n",
    "- Create bar plots, histograms, correlation plots etc using tangible factors from our og dataset (room number, acres etc) should show clear trend\n",
    "- Same thing but for some intangible factors using newly merged data, see if we can come to cool conclusions about those correlations\n",
    "- Writeup analysis about what this shows us about society/housing market"
   ]
  },
  {
   "cell_type": "code",
   "execution_count": null,
   "id": "55a9b7ff",
   "metadata": {},
   "outputs": [],
   "source": []
  }
 ],
 "metadata": {
  "kernelspec": {
   "display_name": "Python 3 (ipykernel)",
   "language": "python",
   "name": "python3"
  },
  "language_info": {
   "codemirror_mode": {
    "name": "ipython",
    "version": 3
   },
   "file_extension": ".py",
   "mimetype": "text/x-python",
   "name": "python",
   "nbconvert_exporter": "python",
   "pygments_lexer": "ipython3",
   "version": "3.11.7"
  }
 },
 "nbformat": 4,
 "nbformat_minor": 5
}
